raw_file = 'data/raw/appearances.json'
prep_file = 'data/prep/appearances.csv'


raw_file = f"../{raw_file}"
prep_file = f"../{prep_file}"


import pandas as pd

raw = pd.read_json(
  raw_file,
  lines=True,
  convert_dates=True,
  orient={'index','date'}
)

raw.head()


from prep_lib import *


raw
raw_flat = flatten(raw, ['stats'])
raw_flat.head()


mappings = {
    'matchday': 'round',
    'home_team': 'home_club_name',
    'away_team': 'away_club_name',
    'current_team': 'player_club_name',
    'pos': 'player_position',
    'confederation': 'club_confederation',
    'domestic_competition': 'club_domestic_competition',
    'stats_competition': 'competition'
}
raw_flat
with_renamed_columns = renames(raw_flat, mappings)
with_renamed_columns.columns


with_improved_columns = improve_columns(with_renamed_columns)



with_new_columns = add_new_columns(with_improved_columns)


with_filtered_appearances = filter_appearances(with_new_columns)


validations = [
    'assert_df_not_empty',
    'assert_minutes_played_gt_90',
    'assert_goals_in_range',
    'assert_assists_in_range',
    'assert_own_goals_in_range',
    'assert_yellow_cards_range',
    'assert_red_cards_range',
    'assert_unique_on_player_and_date',
    'assert_clubs_per_domestic_competition',
    # 'assert_games_per_season_per_club',
    'assert_appearances_per_match',
    # the next one catches wrongly tagged player appearance teams due to a transference in the middle if the season
    # uncomment after https://github.com/dcaribou/player-scores/issues/8 is resolved
    # 'assert_appearances_per_club_per_game',
    'assert_appearances_freshness_is_less_than_one_week',
    'assert_goals_ne_assists',
    'assert_goals_ne_own_goals',
    'assert_yellow_cards_not_constant',
    'assert_red_cards_not_constant'
]

failed_validations = validate(with_filtered_appearances, validations)
if failed_validations > 0:
    raise Exception(f"{failed_validations} validations did not pass")


with_filtered_appearances.to_csv(
  prep_file,
  index=False
)
