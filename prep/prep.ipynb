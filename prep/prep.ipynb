{
 "cells": [
  {
   "cell_type": "code",
   "execution_count": 2,
   "metadata": {},
   "outputs": [],
   "source": [
    "import pandas as pd\n",
    "from lib.appearances_processor import AppearancesProcessor\n",
    "\n",
    "processor = AppearancesProcessor(raw_file_path='../data/raw/appearances.json')\n",
    "\n",
    "processor.process()"
   ]
  },
  {
   "cell_type": "code",
   "execution_count": 7,
   "metadata": {},
   "outputs": [
    {
     "output_type": "execute_result",
     "data": {
      "text/plain": [
       "     competition round       date player_position  goals  assists  \\\n",
       "6205        RLSW    23 2021-02-13             nan      0        0   \n",
       "6206        RLSW    23 2021-02-13      Goalkeeper      0        0   \n",
       "\n",
       "      yellow_cards  red_cards  minutes_played  home_club_id  away_club_id  \\\n",
       "6205             0          0              90           983          1193   \n",
       "6206             0          0              90           983          1193   \n",
       "\n",
       "      player_id   player_name  player_club_id  game_id  appearance_id  \\\n",
       "6205     432671  luca-philipp             983     2826           6206   \n",
       "6206     432671  luca-philipp             983     2826           6206   \n",
       "\n",
       "      home_club_goals  away_club_goals  season  \n",
       "6205                0              4.0    2020  \n",
       "6206                0              4.0    2020  "
      ],
      "text/html": "<div>\n<style scoped>\n    .dataframe tbody tr th:only-of-type {\n        vertical-align: middle;\n    }\n\n    .dataframe tbody tr th {\n        vertical-align: top;\n    }\n\n    .dataframe thead th {\n        text-align: right;\n    }\n</style>\n<table border=\"1\" class=\"dataframe\">\n  <thead>\n    <tr style=\"text-align: right;\">\n      <th></th>\n      <th>competition</th>\n      <th>round</th>\n      <th>date</th>\n      <th>player_position</th>\n      <th>goals</th>\n      <th>assists</th>\n      <th>yellow_cards</th>\n      <th>red_cards</th>\n      <th>minutes_played</th>\n      <th>home_club_id</th>\n      <th>away_club_id</th>\n      <th>player_id</th>\n      <th>player_name</th>\n      <th>player_club_id</th>\n      <th>game_id</th>\n      <th>appearance_id</th>\n      <th>home_club_goals</th>\n      <th>away_club_goals</th>\n      <th>season</th>\n    </tr>\n  </thead>\n  <tbody>\n    <tr>\n      <th>6205</th>\n      <td>RLSW</td>\n      <td>23</td>\n      <td>2021-02-13</td>\n      <td>nan</td>\n      <td>0</td>\n      <td>0</td>\n      <td>0</td>\n      <td>0</td>\n      <td>90</td>\n      <td>983</td>\n      <td>1193</td>\n      <td>432671</td>\n      <td>luca-philipp</td>\n      <td>983</td>\n      <td>2826</td>\n      <td>6206</td>\n      <td>0</td>\n      <td>4.0</td>\n      <td>2020</td>\n    </tr>\n    <tr>\n      <th>6206</th>\n      <td>RLSW</td>\n      <td>23</td>\n      <td>2021-02-13</td>\n      <td>Goalkeeper</td>\n      <td>0</td>\n      <td>0</td>\n      <td>0</td>\n      <td>0</td>\n      <td>90</td>\n      <td>983</td>\n      <td>1193</td>\n      <td>432671</td>\n      <td>luca-philipp</td>\n      <td>983</td>\n      <td>2826</td>\n      <td>6206</td>\n      <td>0</td>\n      <td>4.0</td>\n      <td>2020</td>\n    </tr>\n  </tbody>\n</table>\n</div>"
     },
     "metadata": {},
     "execution_count": 7
    }
   ],
   "source": [
    "df = processor.prep_df\n",
    "df[(df['player_id'] == 432671) & (df['date'] == '2021-02-13')]"
   ]
  },
  {
   "cell_type": "code",
   "execution_count": 9,
   "metadata": {},
   "outputs": [
    {
     "output_type": "execute_result",
     "data": {
      "text/plain": [
       "             type                                           href  \\\n",
       "0      appearance  /steffen-tigges/leistungsdaten/spieler/296879   \n",
       "1      appearance  /steffen-tigges/leistungsdaten/spieler/296879   \n",
       "2      appearance  /steffen-tigges/leistungsdaten/spieler/296879   \n",
       "3      appearance  /steffen-tigges/leistungsdaten/spieler/296879   \n",
       "4      appearance  /steffen-tigges/leistungsdaten/spieler/296879   \n",
       "...           ...                                            ...   \n",
       "96650  appearance  /jamie-hamilton/leistungsdaten/spieler/567118   \n",
       "96651  appearance  /jamie-hamilton/leistungsdaten/spieler/567118   \n",
       "96652  appearance  /jamie-hamilton/leistungsdaten/spieler/567118   \n",
       "96653  appearance  /jamie-hamilton/leistungsdaten/spieler/567118   \n",
       "96654  appearance  /jamie-hamilton/leistungsdaten/spieler/567118   \n",
       "\n",
       "                                                  parent competition_code  \\\n",
       "0      {'type': 'player', 'href': '/steffen-tigges/pr...             RLW3   \n",
       "1      {'type': 'player', 'href': '/steffen-tigges/pr...             RLW3   \n",
       "2      {'type': 'player', 'href': '/steffen-tigges/pr...             RLW3   \n",
       "3      {'type': 'player', 'href': '/steffen-tigges/pr...             RLW3   \n",
       "4      {'type': 'player', 'href': '/steffen-tigges/pr...             RLW3   \n",
       "...                                                  ...              ...   \n",
       "96650  {'type': 'player', 'href': '/jamie-hamilton/pr...              SC1   \n",
       "96651  {'type': 'player', 'href': '/jamie-hamilton/pr...              SC1   \n",
       "96652  {'type': 'player', 'href': '/jamie-hamilton/pr...              SC1   \n",
       "96653  {'type': 'player', 'href': '/jamie-hamilton/pr...              SC1   \n",
       "96654  {'type': 'player', 'href': '/jamie-hamilton/pr...              SC1   \n",
       "\n",
       "      matchday       date venue  \\\n",
       "0            1 2020-09-05     A   \n",
       "1            2 2020-09-12     H   \n",
       "2            3 2020-09-16     A   \n",
       "3            4 2020-09-20     H   \n",
       "4            5 2020-09-23     A   \n",
       "...        ...        ...   ...   \n",
       "96650       24 2021-01-16     H   \n",
       "96651       26 2021-01-27     A   \n",
       "96652       27 2021-02-03     H   \n",
       "96653       28 2021-02-07     H   \n",
       "96654       29 2021-02-13     A   \n",
       "\n",
       "                                                     for  \\\n",
       "0      {'type': 'club', 'href': '/borussia-dortmund-i...   \n",
       "1      {'type': 'club', 'href': '/borussia-dortmund-i...   \n",
       "2      {'type': 'club', 'href': '/borussia-dortmund-i...   \n",
       "3      {'type': 'club', 'href': '/borussia-dortmund-i...   \n",
       "4      {'type': 'club', 'href': '/borussia-dortmund-i...   \n",
       "...                                                  ...   \n",
       "96650  {'type': 'club', 'href': '/hamilton-academical...   \n",
       "96651  {'type': 'club', 'href': '/hamilton-academical...   \n",
       "96652  {'type': 'club', 'href': '/hamilton-academical...   \n",
       "96653  {'type': 'club', 'href': '/hamilton-academical...   \n",
       "96654  {'type': 'club', 'href': '/hamilton-academical...   \n",
       "\n",
       "                                                opponent result pos goals  \\\n",
       "0      {'type': 'club', 'href': '/alemannia-aachen/sp...    0:1  CF     1   \n",
       "1      {'type': 'club', 'href': '/1-fc-koln-ii/spielp...    2:1  CF         \n",
       "2      {'type': 'club', 'href': '/sportfreunde-lotte/...    0:2  CF     2   \n",
       "3      {'type': 'club', 'href': '/rot-weiss-essen/spi...    1:1  CF         \n",
       "4      {'type': 'club', 'href': '/sc-wiedenbruck-2000...    1:4  CF     1   \n",
       "...                                                  ...    ...  ..   ...   \n",
       "96650  {'type': 'club', 'href': '/dundee-united-fc/sp...    0:0  CB         \n",
       "96651  {'type': 'club', 'href': '/celtic-glasgow/spie...    2:0  CB         \n",
       "96652  {'type': 'club', 'href': '/ross-county-fc/spie...    1:2  CB         \n",
       "96653  {'type': 'club', 'href': '/glasgow-rangers/spi...    1:1  CB         \n",
       "96654  {'type': 'club', 'href': '/motherwell-fc/spiel...    1:4  CB         \n",
       "\n",
       "      assists yellow_cards second_yellow_cards red_cards minutes_played  \n",
       "0                                                                   90'  \n",
       "1                                                                   90'  \n",
       "2                                                                   90'  \n",
       "3                      29'                                          90'  \n",
       "4                                                                   90'  \n",
       "...       ...          ...                 ...       ...            ...  \n",
       "96650                  87'                                          90'  \n",
       "96651                                                               90'  \n",
       "96652                                                               90'  \n",
       "96653                                                               90'  \n",
       "96654                                                               90'  \n",
       "\n",
       "[96655 rows x 17 columns]"
      ],
      "text/html": "<div>\n<style scoped>\n    .dataframe tbody tr th:only-of-type {\n        vertical-align: middle;\n    }\n\n    .dataframe tbody tr th {\n        vertical-align: top;\n    }\n\n    .dataframe thead th {\n        text-align: right;\n    }\n</style>\n<table border=\"1\" class=\"dataframe\">\n  <thead>\n    <tr style=\"text-align: right;\">\n      <th></th>\n      <th>type</th>\n      <th>href</th>\n      <th>parent</th>\n      <th>competition_code</th>\n      <th>matchday</th>\n      <th>date</th>\n      <th>venue</th>\n      <th>for</th>\n      <th>opponent</th>\n      <th>result</th>\n      <th>pos</th>\n      <th>goals</th>\n      <th>assists</th>\n      <th>yellow_cards</th>\n      <th>second_yellow_cards</th>\n      <th>red_cards</th>\n      <th>minutes_played</th>\n    </tr>\n  </thead>\n  <tbody>\n    <tr>\n      <th>0</th>\n      <td>appearance</td>\n      <td>/steffen-tigges/leistungsdaten/spieler/296879</td>\n      <td>{'type': 'player', 'href': '/steffen-tigges/pr...</td>\n      <td>RLW3</td>\n      <td>1</td>\n      <td>2020-09-05</td>\n      <td>A</td>\n      <td>{'type': 'club', 'href': '/borussia-dortmund-i...</td>\n      <td>{'type': 'club', 'href': '/alemannia-aachen/sp...</td>\n      <td>0:1</td>\n      <td>CF</td>\n      <td>1</td>\n      <td></td>\n      <td></td>\n      <td></td>\n      <td></td>\n      <td>90'</td>\n    </tr>\n    <tr>\n      <th>1</th>\n      <td>appearance</td>\n      <td>/steffen-tigges/leistungsdaten/spieler/296879</td>\n      <td>{'type': 'player', 'href': '/steffen-tigges/pr...</td>\n      <td>RLW3</td>\n      <td>2</td>\n      <td>2020-09-12</td>\n      <td>H</td>\n      <td>{'type': 'club', 'href': '/borussia-dortmund-i...</td>\n      <td>{'type': 'club', 'href': '/1-fc-koln-ii/spielp...</td>\n      <td>2:1</td>\n      <td>CF</td>\n      <td></td>\n      <td></td>\n      <td></td>\n      <td></td>\n      <td></td>\n      <td>90'</td>\n    </tr>\n    <tr>\n      <th>2</th>\n      <td>appearance</td>\n      <td>/steffen-tigges/leistungsdaten/spieler/296879</td>\n      <td>{'type': 'player', 'href': '/steffen-tigges/pr...</td>\n      <td>RLW3</td>\n      <td>3</td>\n      <td>2020-09-16</td>\n      <td>A</td>\n      <td>{'type': 'club', 'href': '/borussia-dortmund-i...</td>\n      <td>{'type': 'club', 'href': '/sportfreunde-lotte/...</td>\n      <td>0:2</td>\n      <td>CF</td>\n      <td>2</td>\n      <td></td>\n      <td></td>\n      <td></td>\n      <td></td>\n      <td>90'</td>\n    </tr>\n    <tr>\n      <th>3</th>\n      <td>appearance</td>\n      <td>/steffen-tigges/leistungsdaten/spieler/296879</td>\n      <td>{'type': 'player', 'href': '/steffen-tigges/pr...</td>\n      <td>RLW3</td>\n      <td>4</td>\n      <td>2020-09-20</td>\n      <td>H</td>\n      <td>{'type': 'club', 'href': '/borussia-dortmund-i...</td>\n      <td>{'type': 'club', 'href': '/rot-weiss-essen/spi...</td>\n      <td>1:1</td>\n      <td>CF</td>\n      <td></td>\n      <td></td>\n      <td>29'</td>\n      <td></td>\n      <td></td>\n      <td>90'</td>\n    </tr>\n    <tr>\n      <th>4</th>\n      <td>appearance</td>\n      <td>/steffen-tigges/leistungsdaten/spieler/296879</td>\n      <td>{'type': 'player', 'href': '/steffen-tigges/pr...</td>\n      <td>RLW3</td>\n      <td>5</td>\n      <td>2020-09-23</td>\n      <td>A</td>\n      <td>{'type': 'club', 'href': '/borussia-dortmund-i...</td>\n      <td>{'type': 'club', 'href': '/sc-wiedenbruck-2000...</td>\n      <td>1:4</td>\n      <td>CF</td>\n      <td>1</td>\n      <td></td>\n      <td></td>\n      <td></td>\n      <td></td>\n      <td>90'</td>\n    </tr>\n    <tr>\n      <th>...</th>\n      <td>...</td>\n      <td>...</td>\n      <td>...</td>\n      <td>...</td>\n      <td>...</td>\n      <td>...</td>\n      <td>...</td>\n      <td>...</td>\n      <td>...</td>\n      <td>...</td>\n      <td>...</td>\n      <td>...</td>\n      <td>...</td>\n      <td>...</td>\n      <td>...</td>\n      <td>...</td>\n      <td>...</td>\n    </tr>\n    <tr>\n      <th>96650</th>\n      <td>appearance</td>\n      <td>/jamie-hamilton/leistungsdaten/spieler/567118</td>\n      <td>{'type': 'player', 'href': '/jamie-hamilton/pr...</td>\n      <td>SC1</td>\n      <td>24</td>\n      <td>2021-01-16</td>\n      <td>H</td>\n      <td>{'type': 'club', 'href': '/hamilton-academical...</td>\n      <td>{'type': 'club', 'href': '/dundee-united-fc/sp...</td>\n      <td>0:0</td>\n      <td>CB</td>\n      <td></td>\n      <td></td>\n      <td>87'</td>\n      <td></td>\n      <td></td>\n      <td>90'</td>\n    </tr>\n    <tr>\n      <th>96651</th>\n      <td>appearance</td>\n      <td>/jamie-hamilton/leistungsdaten/spieler/567118</td>\n      <td>{'type': 'player', 'href': '/jamie-hamilton/pr...</td>\n      <td>SC1</td>\n      <td>26</td>\n      <td>2021-01-27</td>\n      <td>A</td>\n      <td>{'type': 'club', 'href': '/hamilton-academical...</td>\n      <td>{'type': 'club', 'href': '/celtic-glasgow/spie...</td>\n      <td>2:0</td>\n      <td>CB</td>\n      <td></td>\n      <td></td>\n      <td></td>\n      <td></td>\n      <td></td>\n      <td>90'</td>\n    </tr>\n    <tr>\n      <th>96652</th>\n      <td>appearance</td>\n      <td>/jamie-hamilton/leistungsdaten/spieler/567118</td>\n      <td>{'type': 'player', 'href': '/jamie-hamilton/pr...</td>\n      <td>SC1</td>\n      <td>27</td>\n      <td>2021-02-03</td>\n      <td>H</td>\n      <td>{'type': 'club', 'href': '/hamilton-academical...</td>\n      <td>{'type': 'club', 'href': '/ross-county-fc/spie...</td>\n      <td>1:2</td>\n      <td>CB</td>\n      <td></td>\n      <td></td>\n      <td></td>\n      <td></td>\n      <td></td>\n      <td>90'</td>\n    </tr>\n    <tr>\n      <th>96653</th>\n      <td>appearance</td>\n      <td>/jamie-hamilton/leistungsdaten/spieler/567118</td>\n      <td>{'type': 'player', 'href': '/jamie-hamilton/pr...</td>\n      <td>SC1</td>\n      <td>28</td>\n      <td>2021-02-07</td>\n      <td>H</td>\n      <td>{'type': 'club', 'href': '/hamilton-academical...</td>\n      <td>{'type': 'club', 'href': '/glasgow-rangers/spi...</td>\n      <td>1:1</td>\n      <td>CB</td>\n      <td></td>\n      <td></td>\n      <td></td>\n      <td></td>\n      <td></td>\n      <td>90'</td>\n    </tr>\n    <tr>\n      <th>96654</th>\n      <td>appearance</td>\n      <td>/jamie-hamilton/leistungsdaten/spieler/567118</td>\n      <td>{'type': 'player', 'href': '/jamie-hamilton/pr...</td>\n      <td>SC1</td>\n      <td>29</td>\n      <td>2021-02-13</td>\n      <td>A</td>\n      <td>{'type': 'club', 'href': '/hamilton-academical...</td>\n      <td>{'type': 'club', 'href': '/motherwell-fc/spiel...</td>\n      <td>1:4</td>\n      <td>CB</td>\n      <td></td>\n      <td></td>\n      <td></td>\n      <td></td>\n      <td></td>\n      <td>90'</td>\n    </tr>\n  </tbody>\n</table>\n<p>96655 rows × 17 columns</p>\n</div>"
     },
     "metadata": {},
     "execution_count": 9
    }
   ],
   "source": [
    "df = processor.raw_df\n",
    "df['player_id'] == df['parent'].apply(lambda x: get_href_part(x['href'], 4)).astype('int32')"
   ]
  }
 ],
 "metadata": {
  "celltoolbar": "Tags",
  "kernelspec": {
   "display_name": "Python (player-scores)",
   "language": "python",
   "name": "player-scores"
  },
  "language_info": {
   "codemirror_mode": {
    "name": "ipython",
    "version": 3
   },
   "file_extension": ".py",
   "mimetype": "text/x-python",
   "name": "python",
   "nbconvert_exporter": "python",
   "pygments_lexer": "ipython3",
   "version": "3.8.5-final"
  }
 },
 "nbformat": 4,
 "nbformat_minor": 2
}