{
 "cells": [
  {
   "cell_type": "code",
   "execution_count": 1,
   "metadata": {},
   "outputs": [
    {
     "output_type": "execute_result",
     "data": {
      "text/plain": [
       "256"
      ]
     },
     "metadata": {},
     "execution_count": 1
    }
   ],
   "source": [
    "# obtain raw assets\n",
    "import os\n",
    "os.system(\"dvc pull\")"
   ]
  },
  {
   "cell_type": "code",
   "execution_count": 2,
   "metadata": {},
   "outputs": [],
   "source": [
    "# initialize asset runner\n",
    "\n",
    "import pandas as pd\n",
    "from asset_runner import AssetRunner\n",
    "\n",
    "runner = AssetRunner('../data/raw')"
   ]
  },
  {
   "cell_type": "code",
   "execution_count": 3,
   "metadata": {},
   "outputs": [
    {
     "output_type": "stream",
     "name": "stderr",
     "text": [
      "--- Processing 3 assets ---\n",
      "Name         File\n",
      "-----------  ----------------------------\n",
      "clubs        ../data/raw/clubs.json\n",
      "appearances  ../data/raw/appearances.json\n",
      "leagues      ../data/raw/leagues.json\n",
      "\n",
      "-> Processing clubs\n",
      "       club_id           name domestic_competition league_id\n",
      "count      241            241                  241       241\n",
      "unique     241            241                   14        14\n",
      "top       1096  cercle-brugge                  TR1       TR1\n",
      "freq         1              1                   21        21\n",
      "All 1 validations passed!\n",
      "\n",
      "-> Processing appearances\n",
      "              goals       assists  yellow_cards     red_cards  minutes_played  \\\n",
      "count  73084.000000  73084.000000  73084.000000  73084.000000    73084.000000   \n",
      "mean       0.090676      0.069755      0.142151      0.003982       67.203574   \n",
      "std        0.319666      0.272337      0.360012      0.062976       30.557415   \n",
      "min        0.000000      0.000000      0.000000      0.000000        0.000000   \n",
      "25%        0.000000      0.000000      0.000000      0.000000       45.000000   \n",
      "50%        0.000000      0.000000      0.000000      0.000000       90.000000   \n",
      "75%        0.000000      0.000000      0.000000      0.000000       90.000000   \n",
      "max        5.000000      4.000000      2.000000      1.000000       90.000000   \n",
      "\n",
      "       home_club_id  away_club_id      player_id  player_club_id  \\\n",
      "count  73084.000000  73084.000000   73084.000000    73084.000000   \n",
      "mean    3957.476219   3826.235455  247497.533824     3828.910350   \n",
      "std     9574.784358   9309.478687  161582.749893     9314.345927   \n",
      "min        3.000000      3.000000    3333.000000        3.000000   \n",
      "25%      347.000000    347.000000  111275.000000      347.000000   \n",
      "50%      969.000000    969.000000  226012.000000      964.000000   \n",
      "75%     2727.000000   2727.000000  353211.000000     2727.000000   \n",
      "max    61825.000000  61825.000000  842904.000000    61825.000000   \n",
      "\n",
      "            game_id  appearance_id   season  \n",
      "count  73084.000000   73084.000000  73084.0  \n",
      "mean   39610.202260   49159.859573   2020.0  \n",
      "std    27963.393094   28103.821271      0.0  \n",
      "min       67.000000     147.000000   2020.0  \n",
      "25%    14970.000000   25266.750000   2020.0  \n",
      "50%    34385.000000   48766.500000   2020.0  \n",
      "75%    63834.000000   73856.250000   2020.0  \n",
      "max    95285.000000   96655.000000   2020.0  \n",
      "Validation                          # Errors\n",
      "--------------------------------  ----------\n",
      "assert_games_per_season_per_club         241\n",
      "\n",
      "-> Processing leagues\n",
      "          type                                       href    parent.type  \\\n",
      "count       14                                         14             14   \n",
      "unique       1                                         14              1   \n",
      "top     league  /premier-league/startseite/wettbewerb/GB1  confederation   \n",
      "freq        14                                          1             14   \n",
      "\n",
      "                parent.href  \n",
      "count                    14  \n",
      "unique                    1  \n",
      "top     /wettbewerbe/europa  \n",
      "freq                     14  \n",
      "All 1 validations passed!\n",
      "\n"
     ]
    }
   ],
   "source": [
    "# process assets \n",
    "runner.process_assets()"
   ]
  },
  {
   "cell_type": "code",
   "execution_count": 4,
   "metadata": {},
   "outputs": [
    {
     "output_type": "stream",
     "name": "stdout",
     "text": [
      "Name         File\n-----------  ----------------------------\nclubs        ../data/raw/clubs.json\nappearances  ../data/raw/appearances.json\nleagues      ../data/raw/leagues.json\n"
     ]
    }
   ],
   "source": [
    "# list available assets\n",
    "print(runner.prettify_asset_processors())"
   ]
  },
  {
   "cell_type": "code",
   "execution_count": 5,
   "metadata": {},
   "outputs": [
    {
     "output_type": "execute_result",
     "data": {
      "text/plain": [
       "'clubs'"
      ]
     },
     "metadata": {},
     "execution_count": 5
    }
   ],
   "source": [
    "# get a reference to one asset\n",
    "asset = runner.assets[0]\n",
    "asset['name']"
   ]
  },
  {
   "cell_type": "code",
   "execution_count": 6,
   "metadata": {},
   "outputs": [
    {
     "output_type": "execute_result",
     "data": {
      "text/plain": [
       "       club_id           name domestic_competition league_id\n",
       "count      241            241                  241       241\n",
       "unique     241            241                   14        14\n",
       "top       1096  cercle-brugge                  TR1       TR1\n",
       "freq         1              1                   21        21"
      ],
      "text/html": "<div>\n<style scoped>\n    .dataframe tbody tr th:only-of-type {\n        vertical-align: middle;\n    }\n\n    .dataframe tbody tr th {\n        vertical-align: top;\n    }\n\n    .dataframe thead th {\n        text-align: right;\n    }\n</style>\n<table border=\"1\" class=\"dataframe\">\n  <thead>\n    <tr style=\"text-align: right;\">\n      <th></th>\n      <th>club_id</th>\n      <th>name</th>\n      <th>domestic_competition</th>\n      <th>league_id</th>\n    </tr>\n  </thead>\n  <tbody>\n    <tr>\n      <th>count</th>\n      <td>241</td>\n      <td>241</td>\n      <td>241</td>\n      <td>241</td>\n    </tr>\n    <tr>\n      <th>unique</th>\n      <td>241</td>\n      <td>241</td>\n      <td>14</td>\n      <td>14</td>\n    </tr>\n    <tr>\n      <th>top</th>\n      <td>1096</td>\n      <td>cercle-brugge</td>\n      <td>TR1</td>\n      <td>TR1</td>\n    </tr>\n    <tr>\n      <th>freq</th>\n      <td>1</td>\n      <td>1</td>\n      <td>21</td>\n      <td>21</td>\n    </tr>\n  </tbody>\n</table>\n</div>"
     },
     "metadata": {},
     "execution_count": 6
    }
   ],
   "source": [
    "# get a reference to the pandas dataframes containing raw and prepared data\n",
    "clubs = asset['processor']\n",
    "\n",
    "raw = clubs.raw_df\n",
    "prep = clubs.prep_df\n",
    "\n",
    "prep.describe()"
   ]
  },
  {
   "cell_type": "code",
   "execution_count": 7,
   "metadata": {},
   "outputs": [
    {
     "output_type": "execute_result",
     "data": {
      "text/plain": [
       "0       L1\n",
       "1       L1\n",
       "2       L1\n",
       "3       L1\n",
       "4       L1\n",
       "      ... \n",
       "236    IT1\n",
       "237    IT1\n",
       "238    IT1\n",
       "239    IT1\n",
       "240    IT1\n",
       "Name: 4, Length: 241, dtype: object"
      ]
     },
     "metadata": {},
     "execution_count": 7
    }
   ],
   "source": [
    "normalized = clubs.checkpoints['json_normalized']\n",
    "normalized['parent.href'].str.split('/', 5, True)[4]"
   ]
  },
  {
   "cell_type": "code",
   "execution_count": 12,
   "metadata": {},
   "outputs": [
    {
     "output_type": "execute_result",
     "data": {
      "text/plain": [
       "      type                                             href    parent.type  \\\n",
       "0   league             /bundesliga/startseite/wettbewerb/L1  confederation   \n",
       "1   league            /eredivisie/startseite/wettbewerb/NL1  confederation   \n",
       "2   league    /jupiler-pro-league/startseite/wettbewerb/BE1  confederation   \n",
       "3   league                /laliga/startseite/wettbewerb/ES1  confederation   \n",
       "4   league              /liga-nos/startseite/wettbewerb/PO1  confederation   \n",
       "5   league               /ligue-1/startseite/wettbewerb/FR1  confederation   \n",
       "6   league        /premier-league/startseite/wettbewerb/GB1  confederation   \n",
       "7   league          /premier-liga/startseite/wettbewerb/RU1  confederation   \n",
       "8   league         /premier-liga/startseite/wettbewerb/UKR1  confederation   \n",
       "9   league  /scottish-premiership/startseite/wettbewerb/SC1  confederation   \n",
       "10  league               /serie-a/startseite/wettbewerb/IT1  confederation   \n",
       "11  league        /super-league-1/startseite/wettbewerb/GR1  confederation   \n",
       "12  league             /super-lig/startseite/wettbewerb/TR1  confederation   \n",
       "13  league           /superligaen/startseite/wettbewerb/DK1  confederation   \n",
       "\n",
       "            parent.href  \n",
       "0   /wettbewerbe/europa  \n",
       "1   /wettbewerbe/europa  \n",
       "2   /wettbewerbe/europa  \n",
       "3   /wettbewerbe/europa  \n",
       "4   /wettbewerbe/europa  \n",
       "5   /wettbewerbe/europa  \n",
       "6   /wettbewerbe/europa  \n",
       "7   /wettbewerbe/europa  \n",
       "8   /wettbewerbe/europa  \n",
       "9   /wettbewerbe/europa  \n",
       "10  /wettbewerbe/europa  \n",
       "11  /wettbewerbe/europa  \n",
       "12  /wettbewerbe/europa  \n",
       "13  /wettbewerbe/europa  "
      ],
      "text/html": "<div>\n<style scoped>\n    .dataframe tbody tr th:only-of-type {\n        vertical-align: middle;\n    }\n\n    .dataframe tbody tr th {\n        vertical-align: top;\n    }\n\n    .dataframe thead th {\n        text-align: right;\n    }\n</style>\n<table border=\"1\" class=\"dataframe\">\n  <thead>\n    <tr style=\"text-align: right;\">\n      <th></th>\n      <th>type</th>\n      <th>href</th>\n      <th>parent.type</th>\n      <th>parent.href</th>\n    </tr>\n  </thead>\n  <tbody>\n    <tr>\n      <th>0</th>\n      <td>league</td>\n      <td>/bundesliga/startseite/wettbewerb/L1</td>\n      <td>confederation</td>\n      <td>/wettbewerbe/europa</td>\n    </tr>\n    <tr>\n      <th>1</th>\n      <td>league</td>\n      <td>/eredivisie/startseite/wettbewerb/NL1</td>\n      <td>confederation</td>\n      <td>/wettbewerbe/europa</td>\n    </tr>\n    <tr>\n      <th>2</th>\n      <td>league</td>\n      <td>/jupiler-pro-league/startseite/wettbewerb/BE1</td>\n      <td>confederation</td>\n      <td>/wettbewerbe/europa</td>\n    </tr>\n    <tr>\n      <th>3</th>\n      <td>league</td>\n      <td>/laliga/startseite/wettbewerb/ES1</td>\n      <td>confederation</td>\n      <td>/wettbewerbe/europa</td>\n    </tr>\n    <tr>\n      <th>4</th>\n      <td>league</td>\n      <td>/liga-nos/startseite/wettbewerb/PO1</td>\n      <td>confederation</td>\n      <td>/wettbewerbe/europa</td>\n    </tr>\n    <tr>\n      <th>5</th>\n      <td>league</td>\n      <td>/ligue-1/startseite/wettbewerb/FR1</td>\n      <td>confederation</td>\n      <td>/wettbewerbe/europa</td>\n    </tr>\n    <tr>\n      <th>6</th>\n      <td>league</td>\n      <td>/premier-league/startseite/wettbewerb/GB1</td>\n      <td>confederation</td>\n      <td>/wettbewerbe/europa</td>\n    </tr>\n    <tr>\n      <th>7</th>\n      <td>league</td>\n      <td>/premier-liga/startseite/wettbewerb/RU1</td>\n      <td>confederation</td>\n      <td>/wettbewerbe/europa</td>\n    </tr>\n    <tr>\n      <th>8</th>\n      <td>league</td>\n      <td>/premier-liga/startseite/wettbewerb/UKR1</td>\n      <td>confederation</td>\n      <td>/wettbewerbe/europa</td>\n    </tr>\n    <tr>\n      <th>9</th>\n      <td>league</td>\n      <td>/scottish-premiership/startseite/wettbewerb/SC1</td>\n      <td>confederation</td>\n      <td>/wettbewerbe/europa</td>\n    </tr>\n    <tr>\n      <th>10</th>\n      <td>league</td>\n      <td>/serie-a/startseite/wettbewerb/IT1</td>\n      <td>confederation</td>\n      <td>/wettbewerbe/europa</td>\n    </tr>\n    <tr>\n      <th>11</th>\n      <td>league</td>\n      <td>/super-league-1/startseite/wettbewerb/GR1</td>\n      <td>confederation</td>\n      <td>/wettbewerbe/europa</td>\n    </tr>\n    <tr>\n      <th>12</th>\n      <td>league</td>\n      <td>/super-lig/startseite/wettbewerb/TR1</td>\n      <td>confederation</td>\n      <td>/wettbewerbe/europa</td>\n    </tr>\n    <tr>\n      <th>13</th>\n      <td>league</td>\n      <td>/superligaen/startseite/wettbewerb/DK1</td>\n      <td>confederation</td>\n      <td>/wettbewerbe/europa</td>\n    </tr>\n  </tbody>\n</table>\n</div>"
     },
     "metadata": {},
     "execution_count": 12
    }
   ],
   "source": [
    "league = runner.assets[2]['processor']\n",
    "\n",
    "json_normalized = league.get_checkpoint('json_normalized')\n",
    "asset = pd.DataFrame()\n",
    "league_href_parts = json_normalized['href'].str.split('/', 5, True)\n",
    "asset['league_id'] = league_href_parts[4]\n",
    "asset['name'] = "
   ]
  }
 ],
 "metadata": {
  "celltoolbar": "Tags",
  "kernelspec": {
   "display_name": "Python (player-scores)",
   "language": "python",
   "name": "player-scores"
  },
  "language_info": {
   "codemirror_mode": {
    "name": "ipython",
    "version": 3
   },
   "file_extension": ".py",
   "mimetype": "text/x-python",
   "name": "python",
   "nbconvert_exporter": "python",
   "pygments_lexer": "ipython3",
   "version": "3.8.5-final"
  }
 },
 "nbformat": 4,
 "nbformat_minor": 4
}