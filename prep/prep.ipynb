{
 "cells": [
  {
   "cell_type": "code",
   "execution_count": null,
   "metadata": {},
   "outputs": [],
   "source": [
    "# obtain raw assets\n",
    "import os\n",
    "os.system(\"dvc pull\")"
   ]
  },
  {
   "cell_type": "code",
   "execution_count": 5,
   "metadata": {},
   "outputs": [],
   "source": [
    "# initialize asset runner\n",
    "\n",
    "import pandas as pd\n",
    "from asset_runner import AssetRunner\n",
    "\n",
    "runner = AssetRunner('../data/raw')"
   ]
  },
  {
   "cell_type": "code",
   "execution_count": 6,
   "metadata": {},
   "outputs": [
    {
     "output_type": "stream",
     "name": "stderr",
     "text": [
      "--- Processing 2 assets ---\n",
      "Name         File\n",
      "-----------  ----------------------------\n",
      "clubs        ../data/raw/clubs.json\n",
      "appearances  ../data/raw/appearances.json\n",
      "\n",
      "-> Processing clubs\n",
      "       club_id             name domestic_competition\n",
      "count      241              241                  241\n",
      "unique     241              241                   14\n",
      "top        653  vitesse-arnheim                  TR1\n",
      "freq         1                1                   21\n",
      "All 1 validations passed!\n",
      "\n",
      "-> Processing appearances\n",
      "              goals       assists  ...  appearance_id   season\n",
      "count  73084.000000  73084.000000  ...   73084.000000  73084.0\n",
      "mean       0.090676      0.069755  ...   49159.859573   2020.0\n",
      "std        0.319666      0.272337  ...   28103.821271      0.0\n",
      "min        0.000000      0.000000  ...     147.000000   2020.0\n",
      "25%        0.000000      0.000000  ...   25266.750000   2020.0\n",
      "50%        0.000000      0.000000  ...   48766.500000   2020.0\n",
      "75%        0.000000      0.000000  ...   73856.250000   2020.0\n",
      "max        5.000000      4.000000  ...   96655.000000   2020.0\n",
      "\n",
      "[8 rows x 12 columns]\n",
      "Validation                          # Errors\n",
      "--------------------------------  ----------\n",
      "assert_games_per_season_per_club         241\n",
      "\n"
     ]
    }
   ],
   "source": [
    "# process assets \n",
    "runner.process_assets()"
   ]
  },
  {
   "cell_type": "code",
   "execution_count": 7,
   "metadata": {},
   "outputs": [
    {
     "output_type": "stream",
     "name": "stdout",
     "text": [
      "Name         File\n-----------  ----------------------------\nclubs        ../data/raw/clubs.json\nappearances  ../data/raw/appearances.json\n"
     ]
    }
   ],
   "source": [
    "# list available assets\n",
    "print(runner.prettify_asset_processors())"
   ]
  },
  {
   "cell_type": "code",
   "execution_count": 8,
   "metadata": {},
   "outputs": [
    {
     "output_type": "execute_result",
     "data": {
      "text/plain": [
       "'clubs'"
      ]
     },
     "metadata": {},
     "execution_count": 8
    }
   ],
   "source": [
    "# get a reference to one asset\n",
    "asset = runner.assets[0]\n",
    "asset['name']"
   ]
  },
  {
   "cell_type": "code",
   "execution_count": 11,
   "metadata": {},
   "outputs": [
    {
     "output_type": "execute_result",
     "data": {
      "text/plain": [
       "       club_id             name domestic_competition\n",
       "count      241              241                  241\n",
       "unique     241              241                   14\n",
       "top        653  vitesse-arnheim                  TR1\n",
       "freq         1                1                   21"
      ],
      "text/html": "<div>\n<style scoped>\n    .dataframe tbody tr th:only-of-type {\n        vertical-align: middle;\n    }\n\n    .dataframe tbody tr th {\n        vertical-align: top;\n    }\n\n    .dataframe thead th {\n        text-align: right;\n    }\n</style>\n<table border=\"1\" class=\"dataframe\">\n  <thead>\n    <tr style=\"text-align: right;\">\n      <th></th>\n      <th>club_id</th>\n      <th>name</th>\n      <th>domestic_competition</th>\n    </tr>\n  </thead>\n  <tbody>\n    <tr>\n      <th>count</th>\n      <td>241</td>\n      <td>241</td>\n      <td>241</td>\n    </tr>\n    <tr>\n      <th>unique</th>\n      <td>241</td>\n      <td>241</td>\n      <td>14</td>\n    </tr>\n    <tr>\n      <th>top</th>\n      <td>653</td>\n      <td>vitesse-arnheim</td>\n      <td>TR1</td>\n    </tr>\n    <tr>\n      <th>freq</th>\n      <td>1</td>\n      <td>1</td>\n      <td>21</td>\n    </tr>\n  </tbody>\n</table>\n</div>"
     },
     "metadata": {},
     "execution_count": 11
    }
   ],
   "source": [
    "# get a reference to the pandas dataframes containing raw and prepared data\n",
    "clubs = asset['processor']\n",
    "\n",
    "raw = clubs.raw_df\n",
    "prep = clubs.prep_df\n",
    "\n",
    "prep.describe()"
   ]
  }
 ],
 "metadata": {
  "celltoolbar": "Tags",
  "kernelspec": {
   "display_name": "Python (player-scores)",
   "language": "python",
   "name": "player-scores"
  },
  "language_info": {
   "codemirror_mode": {
    "name": "ipython",
    "version": 3
   },
   "file_extension": ".py",
   "mimetype": "text/x-python",
   "name": "python",
   "nbconvert_exporter": "python",
   "pygments_lexer": "ipython3",
   "version": "3.8.5-final"
  }
 },
 "nbformat": 4,
 "nbformat_minor": 4
}